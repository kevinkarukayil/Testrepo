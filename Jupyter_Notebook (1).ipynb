{
  "metadata": {
    "kernelspec": {
      "name": "python",
      "display_name": "Pyolite",
      "language": "python"
    },
    "language_info": {
      "codemirror_mode": {
        "name": "python",
        "version": 3
      },
      "file_extension": ".py",
      "mimetype": "text/x-python",
      "name": "python",
      "nbconvert_exporter": "python",
      "pygments_lexer": "ipython3",
      "version": "3.8"
    }
  },
  "nbformat_minor": 4,
  "nbformat": 4,
  "cells": [
    {
      "cell_type": "markdown",
      "source": "<center>\n    <img src=\"https://cf-courses-data.s3.us.cloud-object-storage.appdomain.cloud/IBMDeveloperSkillsNetwork-DS0105EN-SkillsNetwork/labs/Module2/images/SN_web_lightmode.png\" width=\"300\" alt=\"cognitiveclass.ai logo\">\n</center>\n",
      "metadata": {}
    },
    {
      "cell_type": "markdown",
      "source": "#### Add your code below following the instructions given in the course\n",
      "metadata": {}
    },
    {
      "cell_type": "markdown",
      "source": "<a href=\"https://dataplatform.cloud.ibm.com/gallery\">IBM Cloud Gallery</a> ",
      "metadata": {}
    },
    {
      "cell_type": "markdown",
      "source": "My Jupyter Notebook",
      "metadata": {}
    },
    {
      "cell_type": "markdown",
      "source": "</b>KEVIN V JACOB - ANALYST</b>",
      "metadata": {}
    },
    {
      "cell_type": "markdown",
      "source": "<em> I am interested in Data Science because of the power of data analysis </em>",
      "metadata": {}
    },
    {
      "cell_type": "markdown",
      "source": "<h3>Code to add 1+1 <h3>",
      "metadata": {}
    },
    {
      "cell_type": "code",
      "source": "1+1",
      "metadata": {
        "trusted": true
      },
      "execution_count": 3,
      "outputs": [
        {
          "execution_count": 3,
          "output_type": "execute_result",
          "data": {
            "text/plain": "2"
          },
          "metadata": {}
        }
      ]
    },
    {
      "cell_type": "markdown",
      "source": "</p><h1><em>Hello World KJ here </em> </h1></p>\n        <p><b><h1> Work Experience </h1></b></p>\n        <table>\n            <tr>\n                <td>2014-2017 QA</td>\n            </tr>\n                <tr>  <td>2017-2024 BSA</td>\n                </tr>\n                    <tr> <td>2024-2032 UN</td>\n                    </tr>\n                        <tr><td>2032-2052 Media and Wellness</td>\n            </tr>\n        </table>",
      "metadata": {}
    },
    {
      "cell_type": "code",
      "source": "",
      "metadata": {},
      "execution_count": null,
      "outputs": []
    }
  ]
}